{
 "cells": [
  {
   "cell_type": "code",
   "execution_count": 1,
   "id": "533b6e56-9f2b-4e3a-b343-fa55920a8f84",
   "metadata": {},
   "outputs": [
    {
     "data": {
      "text/plain": [
       "5"
      ]
     },
     "execution_count": 1,
     "metadata": {},
     "output_type": "execute_result"
    }
   ],
   "source": [
    "a=5\n",
    "a"
   ]
  },
  {
   "cell_type": "code",
   "execution_count": null,
   "id": "f9cb56ff-8b23-4688-af53-0fc659fdd32c",
   "metadata": {},
   "outputs": [],
   "source": []
  },
  {
   "cell_type": "code",
   "execution_count": 2,
   "id": "62ab17f1-aa6a-46bf-a2cc-b169d1d2b899",
   "metadata": {},
   "outputs": [
    {
     "name": "stdout",
     "output_type": "stream",
     "text": [
      "Collecting panda\n",
      "  Downloading panda-0.3.1.tar.gz (5.8 kB)\n",
      "  Preparing metadata (setup.py): started\n",
      "  Preparing metadata (setup.py): finished with status 'done'\n",
      "Requirement already satisfied: setuptools in c:\\users\\moury\\anaconda3\\lib\\site-packages (from panda) (75.1.0)\n",
      "Requirement already satisfied: requests in c:\\users\\moury\\anaconda3\\lib\\site-packages (from panda) (2.32.3)\n",
      "Requirement already satisfied: charset-normalizer<4,>=2 in c:\\users\\moury\\anaconda3\\lib\\site-packages (from requests->panda) (3.3.2)\n",
      "Requirement already satisfied: idna<4,>=2.5 in c:\\users\\moury\\anaconda3\\lib\\site-packages (from requests->panda) (3.7)\n",
      "Requirement already satisfied: urllib3<3,>=1.21.1 in c:\\users\\moury\\anaconda3\\lib\\site-packages (from requests->panda) (2.2.3)\n",
      "Requirement already satisfied: certifi>=2017.4.17 in c:\\users\\moury\\anaconda3\\lib\\site-packages (from requests->panda) (2025.4.26)\n",
      "Building wheels for collected packages: panda\n",
      "  Building wheel for panda (setup.py): started\n",
      "  Building wheel for panda (setup.py): finished with status 'done'\n",
      "  Created wheel for panda: filename=panda-0.3.1-py3-none-any.whl size=7245 sha256=eb5df29656c023c653e3eebde146613c23640ca2e2f7a3c2e1574cc3bb66ebd4\n",
      "  Stored in directory: c:\\users\\moury\\appdata\\local\\pip\\cache\\wheels\\98\\41\\5b\\6ca54e0b6a35e1b7248c12f56fcb753dfb7717fefaa0fb45f5\n",
      "Successfully built panda\n",
      "Installing collected packages: panda\n",
      "Successfully installed panda-0.3.1\n"
     ]
    }
   ],
   "source": [
    "!pip install panda"
   ]
  }
 ],
 "metadata": {
  "kernelspec": {
   "display_name": "Python 3 (ipykernel)",
   "language": "python",
   "name": "python3"
  },
  "language_info": {
   "codemirror_mode": {
    "name": "ipython",
    "version": 3
   },
   "file_extension": ".py",
   "mimetype": "text/x-python",
   "name": "python",
   "nbconvert_exporter": "python",
   "pygments_lexer": "ipython3",
   "version": "3.12.7"
  }
 },
 "nbformat": 4,
 "nbformat_minor": 5
}
