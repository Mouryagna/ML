{
 "cells": [
  {
   "cell_type": "markdown",
   "id": "9368e542",
   "metadata": {},
   "source": [
    "## Handling Missing Values using Arbitrary Method"
   ]
  },
  {
   "cell_type": "code",
   "execution_count": 18,
   "id": "36db1af5",
   "metadata": {},
   "outputs": [],
   "source": [
    "import numpy as np\n",
    "import pandas as pd\n",
    "import matplotlib.pyplot as plt"
   ]
  },
  {
   "cell_type": "code",
   "execution_count": 19,
   "id": "1e0c034c",
   "metadata": {},
   "outputs": [],
   "source": [
    "from sklearn.model_selection import train_test_split\n",
    "from sklearn.impute import SimpleImputer\n",
    "from sklearn.compose import ColumnTransformer"
   ]
  },
  {
   "cell_type": "code",
   "execution_count": 20,
   "id": "3f8551b9",
   "metadata": {},
   "outputs": [
    {
     "data": {
      "text/html": [
       "<div>\n",
       "<style scoped>\n",
       "    .dataframe tbody tr th:only-of-type {\n",
       "        vertical-align: middle;\n",
       "    }\n",
       "\n",
       "    .dataframe tbody tr th {\n",
       "        vertical-align: top;\n",
       "    }\n",
       "\n",
       "    .dataframe thead th {\n",
       "        text-align: right;\n",
       "    }\n",
       "</style>\n",
       "<table border=\"1\" class=\"dataframe\">\n",
       "  <thead>\n",
       "    <tr style=\"text-align: right;\">\n",
       "      <th></th>\n",
       "      <th>Age</th>\n",
       "      <th>Fare</th>\n",
       "      <th>Family</th>\n",
       "      <th>Survived</th>\n",
       "    </tr>\n",
       "  </thead>\n",
       "  <tbody>\n",
       "    <tr>\n",
       "      <th>0</th>\n",
       "      <td>22.0</td>\n",
       "      <td>7.2500</td>\n",
       "      <td>1</td>\n",
       "      <td>0</td>\n",
       "    </tr>\n",
       "    <tr>\n",
       "      <th>1</th>\n",
       "      <td>38.0</td>\n",
       "      <td>71.2833</td>\n",
       "      <td>1</td>\n",
       "      <td>1</td>\n",
       "    </tr>\n",
       "    <tr>\n",
       "      <th>2</th>\n",
       "      <td>26.0</td>\n",
       "      <td>7.9250</td>\n",
       "      <td>0</td>\n",
       "      <td>1</td>\n",
       "    </tr>\n",
       "    <tr>\n",
       "      <th>3</th>\n",
       "      <td>35.0</td>\n",
       "      <td>53.1000</td>\n",
       "      <td>1</td>\n",
       "      <td>1</td>\n",
       "    </tr>\n",
       "    <tr>\n",
       "      <th>4</th>\n",
       "      <td>35.0</td>\n",
       "      <td>8.0500</td>\n",
       "      <td>0</td>\n",
       "      <td>0</td>\n",
       "    </tr>\n",
       "  </tbody>\n",
       "</table>\n",
       "</div>"
      ],
      "text/plain": [
       "    Age     Fare  Family  Survived\n",
       "0  22.0   7.2500       1         0\n",
       "1  38.0  71.2833       1         1\n",
       "2  26.0   7.9250       0         1\n",
       "3  35.0  53.1000       1         1\n",
       "4  35.0   8.0500       0         0"
      ]
     },
     "execution_count": 20,
     "metadata": {},
     "output_type": "execute_result"
    }
   ],
   "source": [
    "df=pd.read_csv('csv/titanic_toy.csv')\n",
    "df.head()"
   ]
  },
  {
   "cell_type": "code",
   "execution_count": 21,
   "id": "0c3b7440",
   "metadata": {},
   "outputs": [
    {
     "data": {
      "text/plain": [
       "Age         0.198653\n",
       "Fare        0.050505\n",
       "Family      0.000000\n",
       "Survived    0.000000\n",
       "dtype: float64"
      ]
     },
     "execution_count": 21,
     "metadata": {},
     "output_type": "execute_result"
    }
   ],
   "source": [
    "df.isnull().mean()"
   ]
  },
  {
   "cell_type": "code",
   "execution_count": 22,
   "id": "f2ba50ec",
   "metadata": {},
   "outputs": [],
   "source": [
    "x=df.drop(columns=['Survived'])\n",
    "y=df['Survived']"
   ]
  },
  {
   "cell_type": "code",
   "execution_count": 23,
   "id": "eb3cf1e8",
   "metadata": {},
   "outputs": [],
   "source": [
    "x_train,x_test,y_train,y_test=train_test_split(x,y,test_size=0.3,random_state=0)"
   ]
  },
  {
   "cell_type": "code",
   "execution_count": 24,
   "id": "f0cbe538",
   "metadata": {},
   "outputs": [],
   "source": [
    "x_train['Age_99']=x_train['Age'].fillna(99)\n",
    "x_train['Age_-1']=x_train['Age'].fillna(-1)\n",
    "x_train['Fare_99']=x_train['Fare'].fillna(99)\n",
    "x_train['Fare_-1']=x_train['Fare'].fillna(-1)"
   ]
  },
  {
   "cell_type": "code",
   "execution_count": 25,
   "id": "73627b75",
   "metadata": {},
   "outputs": [
    {
     "name": "stdout",
     "output_type": "stream",
     "text": [
      "210.4528692463678 | 917.6372579490381 | 319.3288446599537\n",
      "2378.850836641955 | 2475.3181237982662 | 2308.7854503944995\n"
     ]
    }
   ],
   "source": [
    "print(x_train['Age'].var(),'|',x_train['Age_99'].var(),'|',x_train['Age_-1'].var())\n",
    "print(x_train['Fare'].var(),'|',x_train['Fare_99'].var(),'|',x_train['Fare_-1'].var())"
   ]
  },
  {
   "cell_type": "code",
   "execution_count": 26,
   "id": "d27477cc",
   "metadata": {},
   "outputs": [
    {
     "data": {
      "text/plain": [
       "<matplotlib.legend.Legend at 0x22db0815090>"
      ]
     },
     "execution_count": 26,
     "metadata": {},
     "output_type": "execute_result"
    },
    {
     "data": {
      "image/png": "[encoded data removed]",
      "text/plain": [
       "<Figure size 640x480 with 1 Axes>"
      ]
     },
     "metadata": {},
     "output_type": "display_data"
    }
   ],
   "source": [
    "fig=plt.figure()\n",
    "ax=fig.add_subplot()\n",
    "\n",
    "x_train['Age'].plot(kind='kde',ax=ax)\n",
    "x_train['Age_99'].plot(kind='kde',ax=ax)\n",
    "x_train['Age_-1'].plot(kind='kde',ax=ax)\n",
    "\n",
    "lines,labels=ax.get_legend_handles_labels()\n",
    "ax.legend(lines,labels,loc='best')"
   ]
  },
  {
   "cell_type": "code",
   "execution_count": 27,
   "id": "9fd2e9da",
   "metadata": {},
   "outputs": [
    {
     "data": {
      "text/plain": [
       "<matplotlib.legend.Legend at 0x22db088ed50>"
      ]
     },
     "execution_count": 27,
     "metadata": {},
     "output_type": "execute_result"
    },
    {
     "data": {
      "image/png": "[encoded data removed]",
      "text/plain": [
       "<Figure size 640x480 with 1 Axes>"
      ]
     },
     "metadata": {},
     "output_type": "display_data"
    }
   ],
   "source": [
    "fig=plt.figure()\n",
    "ax=fig.add_subplot()\n",
    "\n",
    "x_train['Fare'].plot(kind='kde',ax=ax)\n",
    "x_train['Fare_99'].plot(kind='kde',ax=ax)\n",
    "x_train['Fare_-1'].plot(kind='kde',ax=ax)\n",
    "\n",
    "lines,labels=ax.get_legend_handles_labels()\n",
    "ax.legend(lines,labels,loc='best')"
   ]
  },
  {
   "cell_type": "code",
   "execution_count": 28,
   "id": "31a33950",
   "metadata": {},
   "outputs": [
    {
     "data": {
      "text/html": [
       "<div>\n",
       "<style scoped>\n",
       "    .dataframe tbody tr th:only-of-type {\n",
       "        vertical-align: middle;\n",
       "    }\n",
       "\n",
       "    .dataframe tbody tr th {\n",
       "        vertical-align: top;\n",
       "    }\n",
       "\n",
       "    .dataframe thead th {\n",
       "        text-align: right;\n",
       "    }\n",
       "</style>\n",
       "<table border=\"1\" class=\"dataframe\">\n",
       "  <thead>\n",
       "    <tr style=\"text-align: right;\">\n",
       "      <th></th>\n",
       "      <th>Age</th>\n",
       "      <th>Fare</th>\n",
       "      <th>Family</th>\n",
       "      <th>Age_99</th>\n",
       "      <th>Age_-1</th>\n",
       "      <th>Fare_99</th>\n",
       "      <th>Fare_-1</th>\n",
       "    </tr>\n",
       "  </thead>\n",
       "  <tbody>\n",
       "    <tr>\n",
       "      <th>Age</th>\n",
       "      <td>210.452869</td>\n",
       "      <td>88.495367</td>\n",
       "      <td>-6.086107</td>\n",
       "      <td>210.452869</td>\n",
       "      <td>210.452869</td>\n",
       "      <td>84.436617</td>\n",
       "      <td>83.065256</td>\n",
       "    </tr>\n",
       "    <tr>\n",
       "      <th>Fare</th>\n",
       "      <td>88.495367</td>\n",
       "      <td>2378.850837</td>\n",
       "      <td>17.556587</td>\n",
       "      <td>-33.742505</td>\n",
       "      <td>117.936978</td>\n",
       "      <td>2378.850837</td>\n",
       "      <td>2378.850837</td>\n",
       "    </tr>\n",
       "    <tr>\n",
       "      <th>Family</th>\n",
       "      <td>-6.086107</td>\n",
       "      <td>17.556587</td>\n",
       "      <td>2.844782</td>\n",
       "      <td>-4.110411</td>\n",
       "      <td>-5.256458</td>\n",
       "      <td>16.249409</td>\n",
       "      <td>16.813787</td>\n",
       "    </tr>\n",
       "    <tr>\n",
       "      <th>Age_99</th>\n",
       "      <td>210.452869</td>\n",
       "      <td>-33.742505</td>\n",
       "      <td>-4.110411</td>\n",
       "      <td>917.637258</td>\n",
       "      <td>-165.272555</td>\n",
       "      <td>-41.637520</td>\n",
       "      <td>-27.089101</td>\n",
       "    </tr>\n",
       "    <tr>\n",
       "      <th>Age_-1</th>\n",
       "      <td>210.452869</td>\n",
       "      <td>117.936978</td>\n",
       "      <td>-5.256458</td>\n",
       "      <td>-165.272555</td>\n",
       "      <td>319.328845</td>\n",
       "      <td>117.078413</td>\n",
       "      <td>108.969119</td>\n",
       "    </tr>\n",
       "    <tr>\n",
       "      <th>Fare_99</th>\n",
       "      <td>84.436617</td>\n",
       "      <td>2378.850837</td>\n",
       "      <td>16.249409</td>\n",
       "      <td>-41.637520</td>\n",
       "      <td>117.078413</td>\n",
       "      <td>2475.318124</td>\n",
       "      <td>2140.829871</td>\n",
       "    </tr>\n",
       "    <tr>\n",
       "      <th>Fare_-1</th>\n",
       "      <td>83.065256</td>\n",
       "      <td>2378.850837</td>\n",
       "      <td>16.813787</td>\n",
       "      <td>-27.089101</td>\n",
       "      <td>108.969119</td>\n",
       "      <td>2140.829871</td>\n",
       "      <td>2308.785450</td>\n",
       "    </tr>\n",
       "  </tbody>\n",
       "</table>\n",
       "</div>"
      ],
      "text/plain": [
       "                Age         Fare     Family      Age_99      Age_-1  \\\n",
       "Age      210.452869    88.495367  -6.086107  210.452869  210.452869   \n",
       "Fare      88.495367  2378.850837  17.556587  -33.742505  117.936978   \n",
       "Family    -6.086107    17.556587   2.844782   -4.110411   -5.256458   \n",
       "Age_99   210.452869   -33.742505  -4.110411  917.637258 -165.272555   \n",
       "Age_-1   210.452869   117.936978  -5.256458 -165.272555  319.328845   \n",
       "Fare_99   84.436617  2378.850837  16.249409  -41.637520  117.078413   \n",
       "Fare_-1   83.065256  2378.850837  16.813787  -27.089101  108.969119   \n",
       "\n",
       "             Fare_99      Fare_-1  \n",
       "Age        84.436617    83.065256  \n",
       "Fare     2378.850837  2378.850837  \n",
       "Family     16.249409    16.813787  \n",
       "Age_99    -41.637520   -27.089101  \n",
       "Age_-1    117.078413   108.969119  \n",
       "Fare_99  2475.318124  2140.829871  \n",
       "Fare_-1  2140.829871  2308.785450  "
      ]
     },
     "execution_count": 28,
     "metadata": {},
     "output_type": "execute_result"
    }
   ],
   "source": [
    "x_train.cov()"
   ]
  },
  {
   "cell_type": "code",
   "execution_count": 29,
   "id": "803d2d48",
   "metadata": {},
   "outputs": [
    {
     "data": {
      "text/html": [
       "<div>\n",
       "<style scoped>\n",
       "    .dataframe tbody tr th:only-of-type {\n",
       "        vertical-align: middle;\n",
       "    }\n",
       "\n",
       "    .dataframe tbody tr th {\n",
       "        vertical-align: top;\n",
       "    }\n",
       "\n",
       "    .dataframe thead th {\n",
       "        text-align: right;\n",
       "    }\n",
       "</style>\n",
       "<table border=\"1\" class=\"dataframe\">\n",
       "  <thead>\n",
       "    <tr style=\"text-align: right;\">\n",
       "      <th></th>\n",
       "      <th>Age</th>\n",
       "      <th>Fare</th>\n",
       "      <th>Family</th>\n",
       "      <th>Age_99</th>\n",
       "      <th>Age_-1</th>\n",
       "      <th>Fare_99</th>\n",
       "      <th>Fare_-1</th>\n",
       "    </tr>\n",
       "  </thead>\n",
       "  <tbody>\n",
       "    <tr>\n",
       "      <th>Age</th>\n",
       "      <td>1.000000</td>\n",
       "      <td>0.118049</td>\n",
       "      <td>-0.287479</td>\n",
       "      <td>1.000000</td>\n",
       "      <td>1.000000</td>\n",
       "      <td>0.111705</td>\n",
       "      <td>0.113169</td>\n",
       "    </tr>\n",
       "    <tr>\n",
       "      <th>Fare</th>\n",
       "      <td>0.118049</td>\n",
       "      <td>1.000000</td>\n",
       "      <td>0.210147</td>\n",
       "      <td>-0.022731</td>\n",
       "      <td>0.134772</td>\n",
       "      <td>1.000000</td>\n",
       "      <td>1.000000</td>\n",
       "    </tr>\n",
       "    <tr>\n",
       "      <th>Family</th>\n",
       "      <td>-0.287479</td>\n",
       "      <td>0.210147</td>\n",
       "      <td>1.000000</td>\n",
       "      <td>-0.080450</td>\n",
       "      <td>-0.174401</td>\n",
       "      <td>0.193641</td>\n",
       "      <td>0.207467</td>\n",
       "    </tr>\n",
       "    <tr>\n",
       "      <th>Age_99</th>\n",
       "      <td>1.000000</td>\n",
       "      <td>-0.022731</td>\n",
       "      <td>-0.080450</td>\n",
       "      <td>1.000000</td>\n",
       "      <td>-0.305314</td>\n",
       "      <td>-0.027627</td>\n",
       "      <td>-0.018611</td>\n",
       "    </tr>\n",
       "    <tr>\n",
       "      <th>Age_-1</th>\n",
       "      <td>1.000000</td>\n",
       "      <td>0.134772</td>\n",
       "      <td>-0.174401</td>\n",
       "      <td>-0.305314</td>\n",
       "      <td>1.000000</td>\n",
       "      <td>0.131687</td>\n",
       "      <td>0.126909</td>\n",
       "    </tr>\n",
       "    <tr>\n",
       "      <th>Fare_99</th>\n",
       "      <td>0.111705</td>\n",
       "      <td>1.000000</td>\n",
       "      <td>0.193641</td>\n",
       "      <td>-0.027627</td>\n",
       "      <td>0.131687</td>\n",
       "      <td>1.000000</td>\n",
       "      <td>0.895519</td>\n",
       "    </tr>\n",
       "    <tr>\n",
       "      <th>Fare_-1</th>\n",
       "      <td>0.113169</td>\n",
       "      <td>1.000000</td>\n",
       "      <td>0.207467</td>\n",
       "      <td>-0.018611</td>\n",
       "      <td>0.126909</td>\n",
       "      <td>0.895519</td>\n",
       "      <td>1.000000</td>\n",
       "    </tr>\n",
       "  </tbody>\n",
       "</table>\n",
       "</div>"
      ],
      "text/plain": [
       "              Age      Fare    Family    Age_99    Age_-1   Fare_99   Fare_-1\n",
       "Age      1.000000  0.118049 -0.287479  1.000000  1.000000  0.111705  0.113169\n",
       "Fare     0.118049  1.000000  0.210147 -0.022731  0.134772  1.000000  1.000000\n",
       "Family  -0.287479  0.210147  1.000000 -0.080450 -0.174401  0.193641  0.207467\n",
       "Age_99   1.000000 -0.022731 -0.080450  1.000000 -0.305314 -0.027627 -0.018611\n",
       "Age_-1   1.000000  0.134772 -0.174401 -0.305314  1.000000  0.131687  0.126909\n",
       "Fare_99  0.111705  1.000000  0.193641 -0.027627  0.131687  1.000000  0.895519\n",
       "Fare_-1  0.113169  1.000000  0.207467 -0.018611  0.126909  0.895519  1.000000"
      ]
     },
     "execution_count": 29,
     "metadata": {},
     "output_type": "execute_result"
    }
   ],
   "source": [
    "x_train.corr()"
   ]
  },
  {
   "cell_type": "markdown",
   "id": "81bcbe9f",
   "metadata": {},
   "source": [
    "## Sklearn"
   ]
  },
  {
   "cell_type": "code",
   "execution_count": 30,
   "id": "e286ddf6",
   "metadata": {},
   "outputs": [],
   "source": [
    "x_train,x_test,y_train,y_test=train_test_split(x,y,test_size=0.3,random_state=0)"
   ]
  },
  {
   "cell_type": "code",
   "execution_count": 31,
   "id": "cf2a8269",
   "metadata": {},
   "outputs": [],
   "source": [
    "si1=SimpleImputer(strategy='constant',fill_value=99)\n",
    "si2=SimpleImputer(strategy='constant',fill_value=999)"
   ]
  },
  {
   "cell_type": "code",
   "execution_count": 32,
   "id": "8efd0606",
   "metadata": {},
   "outputs": [],
   "source": [
    "trf=ColumnTransformer([\n",
    "    ('i1',si1,['Age']),\n",
    "    ('i2',si1,['Fare'])\n",
    "],remainder='passthrough')"
   ]
  },
  {
   "cell_type": "code",
   "execution_count": 33,
   "id": "d0d34114",
   "metadata": {},
   "outputs": [],
   "source": [
    "trf.fit(x_train)\n",
    "x_train=trf.transform(x_train)\n",
    "x_test=trf.transform(x_test)"
   ]
  }
 ],
 "metadata": {
  "kernelspec": {
   "display_name": "Python 3",
   "language": "python",
   "name": "python3"
  },
  "language_info": {
   "codemirror_mode": {
    "name": "ipython",
    "version": 3
   },
   "file_extension": ".py",
   "mimetype": "text/x-python",
   "name": "python",
   "nbconvert_exporter": "python",
   "pygments_lexer": "ipython3",
   "version": "3.13.3"
  }
 },
 "nbformat": 4,
 "nbformat_minor": 5
}
