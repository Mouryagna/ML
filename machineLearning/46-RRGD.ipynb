{
 "cells": [
  {
   "cell_type": "markdown",
   "id": "6a130a34",
   "metadata": {},
   "source": [
    "# Ridge Regression with GD"
   ]
  },
  {
   "cell_type": "code",
   "execution_count": 1,
   "id": "02498418",
   "metadata": {},
   "outputs": [],
   "source": [
    "import numpy as np\n",
    "import pandas as pd\n",
    "\n",
    "from sklearn.datasets import load_diabetes\n",
    "from sklearn.model_selection import train_test_split\n",
    "from sklearn.linear_model import SGDRegressor,Ridge\n",
    "\n",
    "from sklearn.metrics import r2_score"
   ]
  },
  {
   "cell_type": "code",
   "execution_count": 2,
   "id": "2715f9c4",
   "metadata": {},
   "outputs": [],
   "source": [
    "x,y=load_diabetes(return_X_y=True)"
   ]
  },
  {
   "cell_type": "code",
   "execution_count": 3,
   "id": "3a95a5f3",
   "metadata": {},
   "outputs": [],
   "source": [
    "x_train,x_test,y_train,y_test=train_test_split(x,y,test_size=0.2,random_state=4)"
   ]
  },
  {
   "cell_type": "code",
   "execution_count": 6,
   "id": "75242d3b",
   "metadata": {},
   "outputs": [
    {
     "name": "stderr",
     "output_type": "stream",
     "text": [
      "c:\\Users\\moury\\AppData\\Local\\Programs\\Python\\Python313\\Lib\\site-packages\\sklearn\\linear_model\\_stochastic_gradient.py:1608: ConvergenceWarning: Maximum number of iteration reached before convergence. Consider increasing max_iter to improve the fit.\n",
      "  warnings.warn(\n"
     ]
    },
    {
     "data": {
      "text/plain": [
       "(array([151.64497977]),\n",
       " array([  59.34162671,  -37.35767997,  234.04496465,  180.91614826,\n",
       "          43.75136562,   15.36551639, -135.56249774,  134.4163852 ,\n",
       "         221.72359772,  112.54120598]),\n",
       " -1.678739649379307)"
      ]
     },
     "execution_count": 6,
     "metadata": {},
     "output_type": "execute_result"
    }
   ],
   "source": [
    "sgd=SGDRegressor(max_iter=500,eta0=0.001,penalty='l2',learning_rate='constant')\n",
    "\n",
    "sgd.fit(x_train,y_train)\n",
    "y_pred=sgd.predict(x_test)\n",
    "sgd.intercept_,sgd.coef_,r2_score(y_pred,y_test)"
   ]
  },
  {
   "cell_type": "code",
   "execution_count": 8,
   "id": "faee2939",
   "metadata": {},
   "outputs": [
    {
     "data": {
      "text/plain": [
       "(np.float64(151.10198517439466),\n",
       " array([  34.52192544, -290.84084076,  482.40181344,  368.0678662 ,\n",
       "        -852.44873179,  501.59160336,  180.11115788,  270.76333979,\n",
       "         759.73534372,   37.4913546 ]),\n",
       " -0.10861356490818341)"
      ]
     },
     "execution_count": 8,
     "metadata": {},
     "output_type": "execute_result"
    }
   ],
   "source": [
    "rr=Ridge(alpha=0.001,max_iter=500,solver='sparse_cg')\n",
    "\n",
    "rr.fit(x_train,y_train)\n",
    "y_pred=rr.predict(x_test)\n",
    "rr.intercept_,rr.coef_,r2_score(y_pred,y_test)"
   ]
  },
  {
   "cell_type": "code",
   "execution_count": 16,
   "id": "afee124d",
   "metadata": {},
   "outputs": [],
   "source": [
    "class RGD:\n",
    "    def __init__(self,alpha=0.1,epochs=100,learning_rate=0.1):\n",
    "        self.epochs=epochs\n",
    "        self.n=learning_rate\n",
    "        self.alpha=alpha\n",
    "        self.coef_=None\n",
    "        self.intercept_=None\n",
    "\n",
    "    def fit(self,x_train,y_train):\n",
    "        \n",
    "        self.coef_=np.ones(x_train.shape[1])\n",
    "        self.intercept_=0\n",
    "        thetha=np.insert(self.coef_,0,self.intercept_)\n",
    "        x_train=np.insert(x_train,0,1,axis=1)\n",
    "\n",
    "        for i in range(self.epochs):\n",
    "            thetha_dr=np.dot(x_train.T,x_train).dot(thetha)-np.dot(x_train.T,y_train)-self.alpha*thetha\n",
    "            thetha=thetha-self.n*thetha_dr\n",
    "        self.coef_=thetha[1:]\n",
    "        self.intercept_=thetha[0]\n",
    "\n",
    "    def predict(self,x_test):\n",
    "        y_pred=self.intercept_+(np.dot(x_test,self.coef_))\n",
    "        return y_pred"
   ]
  },
  {
   "cell_type": "code",
   "execution_count": 24,
   "id": "144207a8",
   "metadata": {},
   "outputs": [
    {
     "data": {
      "text/plain": [
       "(np.float64(150.86907936929475),\n",
       " array([  46.62140947, -221.88627741,  452.72916665,  325.94986339,\n",
       "         -29.28550185,  -96.76767049, -191.05382527,  146.37675246,\n",
       "         401.31596569,   95.03232584]),\n",
       " -0.22367209834589552)"
      ]
     },
     "execution_count": 24,
     "metadata": {},
     "output_type": "execute_result"
    }
   ],
   "source": [
    "rr=RGD(alpha=0.001,epochs=500,learning_rate=0.005)\n",
    "\n",
    "rr.fit(x_train,y_train)\n",
    "y_pred=rr.predict(x_test)\n",
    "rr.intercept_,rr.coef_,r2_score(y_pred,y_test)"
   ]
  },
  {
   "cell_type": "code",
   "execution_count": null,
   "id": "a6c4a317",
   "metadata": {},
   "outputs": [],
   "source": []
  }
 ],
 "metadata": {
  "kernelspec": {
   "display_name": "Python 3",
   "language": "python",
   "name": "python3"
  },
  "language_info": {
   "codemirror_mode": {
    "name": "ipython",
    "version": 3
   },
   "file_extension": ".py",
   "mimetype": "text/x-python",
   "name": "python",
   "nbconvert_exporter": "python",
   "pygments_lexer": "ipython3",
   "version": "3.13.3"
  }
 },
 "nbformat": 4,
 "nbformat_minor": 5
}
