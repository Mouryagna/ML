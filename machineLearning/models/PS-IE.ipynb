{
 "cells": [
  {
   "cell_type": "markdown",
   "id": "e1675887",
   "metadata": {},
   "source": [
    "# PlayGround Series - Introvert v/s Extrovert"
   ]
  },
  {
   "cell_type": "code",
   "execution_count": 76,
   "id": "aa62124a",
   "metadata": {},
   "outputs": [],
   "source": [
    "import numpy as np\n",
    "import pandas as pd\n",
    "import matplotlib.pyplot as plt\n",
    "import seaborn as sns"
   ]
  },
  {
   "cell_type": "code",
   "execution_count": 77,
   "id": "0baa3466",
   "metadata": {},
   "outputs": [],
   "source": [
    "df=pd.read_csv('../playground-series-s5e7/train.csv')\n",
    "df_test=pd.read_csv('../playground-series-s5e7/test.csv')"
   ]
  },
  {
   "cell_type": "code",
   "execution_count": 78,
   "id": "83c25f01",
   "metadata": {},
   "outputs": [],
   "source": [
    "df.drop(columns=['id'],inplace=True)"
   ]
  },
  {
   "cell_type": "code",
   "execution_count": 79,
   "id": "a1abb71e",
   "metadata": {},
   "outputs": [
    {
     "data": {
      "text/html": [
       "<div>\n",
       "<style scoped>\n",
       "    .dataframe tbody tr th:only-of-type {\n",
       "        vertical-align: middle;\n",
       "    }\n",
       "\n",
       "    .dataframe tbody tr th {\n",
       "        vertical-align: top;\n",
       "    }\n",
       "\n",
       "    .dataframe thead th {\n",
       "        text-align: right;\n",
       "    }\n",
       "</style>\n",
       "<table border=\"1\" class=\"dataframe\">\n",
       "  <thead>\n",
       "    <tr style=\"text-align: right;\">\n",
       "      <th></th>\n",
       "      <th>Time_spent_Alone</th>\n",
       "      <th>Stage_fear</th>\n",
       "      <th>Social_event_attendance</th>\n",
       "      <th>Going_outside</th>\n",
       "      <th>Drained_after_socializing</th>\n",
       "      <th>Friends_circle_size</th>\n",
       "      <th>Post_frequency</th>\n",
       "      <th>Personality</th>\n",
       "    </tr>\n",
       "  </thead>\n",
       "  <tbody>\n",
       "    <tr>\n",
       "      <th>0</th>\n",
       "      <td>0.0</td>\n",
       "      <td>No</td>\n",
       "      <td>6.0</td>\n",
       "      <td>4.0</td>\n",
       "      <td>No</td>\n",
       "      <td>15.0</td>\n",
       "      <td>5.0</td>\n",
       "      <td>Extrovert</td>\n",
       "    </tr>\n",
       "    <tr>\n",
       "      <th>1</th>\n",
       "      <td>1.0</td>\n",
       "      <td>No</td>\n",
       "      <td>7.0</td>\n",
       "      <td>3.0</td>\n",
       "      <td>No</td>\n",
       "      <td>10.0</td>\n",
       "      <td>8.0</td>\n",
       "      <td>Extrovert</td>\n",
       "    </tr>\n",
       "    <tr>\n",
       "      <th>2</th>\n",
       "      <td>6.0</td>\n",
       "      <td>Yes</td>\n",
       "      <td>1.0</td>\n",
       "      <td>0.0</td>\n",
       "      <td>NaN</td>\n",
       "      <td>3.0</td>\n",
       "      <td>0.0</td>\n",
       "      <td>Introvert</td>\n",
       "    </tr>\n",
       "    <tr>\n",
       "      <th>3</th>\n",
       "      <td>3.0</td>\n",
       "      <td>No</td>\n",
       "      <td>7.0</td>\n",
       "      <td>3.0</td>\n",
       "      <td>No</td>\n",
       "      <td>11.0</td>\n",
       "      <td>5.0</td>\n",
       "      <td>Extrovert</td>\n",
       "    </tr>\n",
       "    <tr>\n",
       "      <th>4</th>\n",
       "      <td>1.0</td>\n",
       "      <td>No</td>\n",
       "      <td>4.0</td>\n",
       "      <td>4.0</td>\n",
       "      <td>No</td>\n",
       "      <td>13.0</td>\n",
       "      <td>NaN</td>\n",
       "      <td>Extrovert</td>\n",
       "    </tr>\n",
       "  </tbody>\n",
       "</table>\n",
       "</div>"
      ],
      "text/plain": [
       "   Time_spent_Alone Stage_fear  Social_event_attendance  Going_outside  \\\n",
       "0               0.0         No                      6.0            4.0   \n",
       "1               1.0         No                      7.0            3.0   \n",
       "2               6.0        Yes                      1.0            0.0   \n",
       "3               3.0         No                      7.0            3.0   \n",
       "4               1.0         No                      4.0            4.0   \n",
       "\n",
       "  Drained_after_socializing  Friends_circle_size  Post_frequency Personality  \n",
       "0                        No                 15.0             5.0   Extrovert  \n",
       "1                        No                 10.0             8.0   Extrovert  \n",
       "2                       NaN                  3.0             0.0   Introvert  \n",
       "3                        No                 11.0             5.0   Extrovert  \n",
       "4                        No                 13.0             NaN   Extrovert  "
      ]
     },
     "execution_count": 79,
     "metadata": {},
     "output_type": "execute_result"
    }
   ],
   "source": [
    "df.head()"
   ]
  },
  {
   "cell_type": "code",
   "execution_count": 80,
   "id": "e59da690",
   "metadata": {},
   "outputs": [
    {
     "name": "stdout",
     "output_type": "stream",
     "text": [
      "<class 'pandas.core.frame.DataFrame'>\n",
      "RangeIndex: 18524 entries, 0 to 18523\n",
      "Data columns (total 8 columns):\n",
      " #   Column                     Non-Null Count  Dtype  \n",
      "---  ------                     --------------  -----  \n",
      " 0   Time_spent_Alone           17334 non-null  float64\n",
      " 1   Stage_fear                 16631 non-null  object \n",
      " 2   Social_event_attendance    17344 non-null  float64\n",
      " 3   Going_outside              17058 non-null  float64\n",
      " 4   Drained_after_socializing  17375 non-null  object \n",
      " 5   Friends_circle_size        17470 non-null  float64\n",
      " 6   Post_frequency             17260 non-null  float64\n",
      " 7   Personality                18524 non-null  object \n",
      "dtypes: float64(5), object(3)\n",
      "memory usage: 1.1+ MB\n"
     ]
    }
   ],
   "source": [
    "df.info()"
   ]
  },
  {
   "cell_type": "code",
   "execution_count": 81,
   "id": "25d3949b",
   "metadata": {},
   "outputs": [
    {
     "data": {
      "text/html": [
       "<div>\n",
       "<style scoped>\n",
       "    .dataframe tbody tr th:only-of-type {\n",
       "        vertical-align: middle;\n",
       "    }\n",
       "\n",
       "    .dataframe tbody tr th {\n",
       "        vertical-align: top;\n",
       "    }\n",
       "\n",
       "    .dataframe thead th {\n",
       "        text-align: right;\n",
       "    }\n",
       "</style>\n",
       "<table border=\"1\" class=\"dataframe\">\n",
       "  <thead>\n",
       "    <tr style=\"text-align: right;\">\n",
       "      <th></th>\n",
       "      <th>Time_spent_Alone</th>\n",
       "      <th>Social_event_attendance</th>\n",
       "      <th>Going_outside</th>\n",
       "      <th>Friends_circle_size</th>\n",
       "      <th>Post_frequency</th>\n",
       "    </tr>\n",
       "  </thead>\n",
       "  <tbody>\n",
       "    <tr>\n",
       "      <th>count</th>\n",
       "      <td>17334.000000</td>\n",
       "      <td>17344.000000</td>\n",
       "      <td>17058.000000</td>\n",
       "      <td>17470.000000</td>\n",
       "      <td>17260.000000</td>\n",
       "    </tr>\n",
       "    <tr>\n",
       "      <th>mean</th>\n",
       "      <td>3.137764</td>\n",
       "      <td>5.265106</td>\n",
       "      <td>4.044319</td>\n",
       "      <td>7.996737</td>\n",
       "      <td>4.982097</td>\n",
       "    </tr>\n",
       "    <tr>\n",
       "      <th>std</th>\n",
       "      <td>3.003786</td>\n",
       "      <td>2.753359</td>\n",
       "      <td>2.062580</td>\n",
       "      <td>4.223484</td>\n",
       "      <td>2.879139</td>\n",
       "    </tr>\n",
       "    <tr>\n",
       "      <th>min</th>\n",
       "      <td>0.000000</td>\n",
       "      <td>0.000000</td>\n",
       "      <td>0.000000</td>\n",
       "      <td>0.000000</td>\n",
       "      <td>0.000000</td>\n",
       "    </tr>\n",
       "    <tr>\n",
       "      <th>25%</th>\n",
       "      <td>1.000000</td>\n",
       "      <td>3.000000</td>\n",
       "      <td>3.000000</td>\n",
       "      <td>5.000000</td>\n",
       "      <td>3.000000</td>\n",
       "    </tr>\n",
       "    <tr>\n",
       "      <th>50%</th>\n",
       "      <td>2.000000</td>\n",
       "      <td>5.000000</td>\n",
       "      <td>4.000000</td>\n",
       "      <td>8.000000</td>\n",
       "      <td>5.000000</td>\n",
       "    </tr>\n",
       "    <tr>\n",
       "      <th>75%</th>\n",
       "      <td>4.000000</td>\n",
       "      <td>8.000000</td>\n",
       "      <td>6.000000</td>\n",
       "      <td>12.000000</td>\n",
       "      <td>7.000000</td>\n",
       "    </tr>\n",
       "    <tr>\n",
       "      <th>max</th>\n",
       "      <td>11.000000</td>\n",
       "      <td>10.000000</td>\n",
       "      <td>7.000000</td>\n",
       "      <td>15.000000</td>\n",
       "      <td>10.000000</td>\n",
       "    </tr>\n",
       "  </tbody>\n",
       "</table>\n",
       "</div>"
      ],
      "text/plain": [
       "       Time_spent_Alone  Social_event_attendance  Going_outside  \\\n",
       "count      17334.000000             17344.000000   17058.000000   \n",
       "mean           3.137764                 5.265106       4.044319   \n",
       "std            3.003786                 2.753359       2.062580   \n",
       "min            0.000000                 0.000000       0.000000   \n",
       "25%            1.000000                 3.000000       3.000000   \n",
       "50%            2.000000                 5.000000       4.000000   \n",
       "75%            4.000000                 8.000000       6.000000   \n",
       "max           11.000000                10.000000       7.000000   \n",
       "\n",
       "       Friends_circle_size  Post_frequency  \n",
       "count         17470.000000    17260.000000  \n",
       "mean              7.996737        4.982097  \n",
       "std               4.223484        2.879139  \n",
       "min               0.000000        0.000000  \n",
       "25%               5.000000        3.000000  \n",
       "50%               8.000000        5.000000  \n",
       "75%              12.000000        7.000000  \n",
       "max              15.000000       10.000000  "
      ]
     },
     "execution_count": 81,
     "metadata": {},
     "output_type": "execute_result"
    }
   ],
   "source": [
    "df.describe()"
   ]
  },
  {
   "cell_type": "code",
   "execution_count": 82,
   "id": "c138e5a4",
   "metadata": {},
   "outputs": [
    {
     "data": {
      "text/plain": [
       "<Axes: ylabel='Post_frequency'>"
      ]
     },
     "execution_count": 82,
     "metadata": {},
     "output_type": "execute_result"
    },
    {
     "data": {
      "image/png": "[encoded data removed]",
      "text/plain": [
       "<Figure size 1200x1000 with 4 Axes>"
      ]
     },
     "metadata": {},
     "output_type": "display_data"
    }
   ],
   "source": [
    "plt.figure(figsize=(12,10))\n",
    "plt.subplot(221)\n",
    "sns.barplot(y=df.Time_spent_Alone,data=df,hue=df.Personality)\n",
    "plt.subplot(222)\n",
    "sns.barplot(y=df.Social_event_attendance,data=df,hue=df.Personality)\n",
    "plt.subplot(223)\n",
    "sns.barplot(y=df.Going_outside,data=df,hue=df.Personality)\n",
    "plt.subplot(224)\n",
    "sns.barplot(y=df.Post_frequency,data=df,hue=df.Personality)"
   ]
  },
  {
   "cell_type": "code",
   "execution_count": 83,
   "id": "229743e0",
   "metadata": {},
   "outputs": [
    {
     "data": {
      "text/plain": [
       "<Axes: xlabel='Post_frequency'>"
      ]
     },
     "execution_count": 83,
     "metadata": {},
     "output_type": "execute_result"
    },
    {
     "data": {
      "image/png": "[encoded data removed]",
      "text/plain": [
       "<Figure size 1200x1000 with 4 Axes>"
      ]
     },
     "metadata": {},
     "output_type": "display_data"
    }
   ],
   "source": [
    "plt.figure(figsize=(12,10))\n",
    "plt.subplot(221)\n",
    "sns.boxplot(x=df.Time_spent_Alone,data=df)\n",
    "plt.subplot(222)\n",
    "sns.boxplot(x=df.Social_event_attendance,data=df)\n",
    "plt.subplot(223)\n",
    "sns.boxplot(x=df.Going_outside,data=df)\n",
    "plt.subplot(224)\n",
    "sns.boxplot(x=df.Post_frequency,data=df)"
   ]
  },
  {
   "cell_type": "code",
   "execution_count": 119,
   "id": "8eb38f85",
   "metadata": {},
   "outputs": [],
   "source": [
    "from sklearn.model_selection import train_test_split\n",
    "from sklearn.preprocessing import LabelEncoder,OneHotEncoder\n",
    "from sklearn.impute import KNNImputer,SimpleImputer\n",
    "from sklearn.compose import ColumnTransformer\n",
    "from sklearn.pipeline import Pipeline"
   ]
  },
  {
   "cell_type": "code",
   "execution_count": 120,
   "id": "60a72307",
   "metadata": {},
   "outputs": [],
   "source": [
    "x=df.drop(columns=['Personality'])\n",
    "y=df.Personality"
   ]
  },
  {
   "cell_type": "code",
   "execution_count": 121,
   "id": "2bd0c743",
   "metadata": {},
   "outputs": [
    {
     "data": {
      "text/plain": [
       "17421    Extrovert\n",
       "11358    Extrovert\n",
       "11460    Extrovert\n",
       "17906    Extrovert\n",
       "9600     Introvert\n",
       "Name: Personality, dtype: object"
      ]
     },
     "execution_count": 121,
     "metadata": {},
     "output_type": "execute_result"
    }
   ],
   "source": [
    "y.sample(5)"
   ]
  },
  {
   "cell_type": "code",
   "execution_count": 122,
   "id": "1ca69f93",
   "metadata": {},
   "outputs": [],
   "source": [
    "x_train,x_test,y_train,y_test=train_test_split(x,y,test_size=0.2,random_state=42)"
   ]
  },
  {
   "cell_type": "code",
   "execution_count": 123,
   "id": "5987abfd",
   "metadata": {},
   "outputs": [
    {
     "data": {
      "text/html": [
       "<div>\n",
       "<style scoped>\n",
       "    .dataframe tbody tr th:only-of-type {\n",
       "        vertical-align: middle;\n",
       "    }\n",
       "\n",
       "    .dataframe tbody tr th {\n",
       "        vertical-align: top;\n",
       "    }\n",
       "\n",
       "    .dataframe thead th {\n",
       "        text-align: right;\n",
       "    }\n",
       "</style>\n",
       "<table border=\"1\" class=\"dataframe\">\n",
       "  <thead>\n",
       "    <tr style=\"text-align: right;\">\n",
       "      <th></th>\n",
       "      <th>Time_spent_Alone</th>\n",
       "      <th>Stage_fear</th>\n",
       "      <th>Social_event_attendance</th>\n",
       "      <th>Going_outside</th>\n",
       "      <th>Drained_after_socializing</th>\n",
       "      <th>Friends_circle_size</th>\n",
       "      <th>Post_frequency</th>\n",
       "    </tr>\n",
       "  </thead>\n",
       "  <tbody>\n",
       "    <tr>\n",
       "      <th>1891</th>\n",
       "      <td>2.0</td>\n",
       "      <td>No</td>\n",
       "      <td>6.0</td>\n",
       "      <td>6.0</td>\n",
       "      <td>No</td>\n",
       "      <td>7.0</td>\n",
       "      <td>3.0</td>\n",
       "    </tr>\n",
       "    <tr>\n",
       "      <th>17383</th>\n",
       "      <td>1.0</td>\n",
       "      <td>No</td>\n",
       "      <td>5.0</td>\n",
       "      <td>4.0</td>\n",
       "      <td>No</td>\n",
       "      <td>12.0</td>\n",
       "      <td>7.0</td>\n",
       "    </tr>\n",
       "    <tr>\n",
       "      <th>5134</th>\n",
       "      <td>1.0</td>\n",
       "      <td>No</td>\n",
       "      <td>NaN</td>\n",
       "      <td>7.0</td>\n",
       "      <td>No</td>\n",
       "      <td>NaN</td>\n",
       "      <td>4.0</td>\n",
       "    </tr>\n",
       "    <tr>\n",
       "      <th>2484</th>\n",
       "      <td>4.0</td>\n",
       "      <td>No</td>\n",
       "      <td>9.0</td>\n",
       "      <td>4.0</td>\n",
       "      <td>No</td>\n",
       "      <td>10.0</td>\n",
       "      <td>7.0</td>\n",
       "    </tr>\n",
       "    <tr>\n",
       "      <th>13190</th>\n",
       "      <td>2.0</td>\n",
       "      <td>NaN</td>\n",
       "      <td>5.0</td>\n",
       "      <td>4.0</td>\n",
       "      <td>No</td>\n",
       "      <td>10.0</td>\n",
       "      <td>8.0</td>\n",
       "    </tr>\n",
       "  </tbody>\n",
       "</table>\n",
       "</div>"
      ],
      "text/plain": [
       "       Time_spent_Alone Stage_fear  Social_event_attendance  Going_outside  \\\n",
       "1891                2.0         No                      6.0            6.0   \n",
       "17383               1.0         No                      5.0            4.0   \n",
       "5134                1.0         No                      NaN            7.0   \n",
       "2484                4.0         No                      9.0            4.0   \n",
       "13190               2.0        NaN                      5.0            4.0   \n",
       "\n",
       "      Drained_after_socializing  Friends_circle_size  Post_frequency  \n",
       "1891                         No                  7.0             3.0  \n",
       "17383                        No                 12.0             7.0  \n",
       "5134                         No                  NaN             4.0  \n",
       "2484                         No                 10.0             7.0  \n",
       "13190                        No                 10.0             8.0  "
      ]
     },
     "execution_count": 123,
     "metadata": {},
     "output_type": "execute_result"
    }
   ],
   "source": [
    "x_train.sample(5)"
   ]
  },
  {
   "cell_type": "code",
   "execution_count": 165,
   "id": "81c33fb0",
   "metadata": {},
   "outputs": [],
   "source": [
    "#numerical transform\n",
    "\n",
    "time_spent_alone_trf=(\n",
    "    'time_spent_alone',Pipeline([\n",
    "        ('impute',SimpleImputer()),\n",
    "    ]),['Time_spent_Alone']\n",
    ")\n",
    "Social_event_attendance_trf=(\n",
    "    'Social_event_attendance',Pipeline([\n",
    "        ('impute',SimpleImputer())\n",
    "    ]),['Social_event_attendance']\n",
    ")\n",
    "Going_outside_trf=(\n",
    "    'Going_outside',Pipeline([\n",
    "        ('impute',SimpleImputer())\n",
    "    ]),['Going_outside']\n",
    ")\n",
    "Friends_circle_size_trf=(\n",
    "    'Friends_circle_size',Pipeline([\n",
    "        ('impute',SimpleImputer(strategy='median'))\n",
    "    ]),['Friends_circle_size']\n",
    ")\n",
    "Post_frequency_trf=(\n",
    "    'Post_frequency',Pipeline([\n",
    "        ('impute',SimpleImputer())\n",
    "    ]),['Post_frequency']\n",
    ")"
   ]
  },
  {
   "cell_type": "code",
   "execution_count": 166,
   "id": "ac8f6168",
   "metadata": {},
   "outputs": [],
   "source": [
    "#Categorical Transformer\n",
    "\n",
    "Stage_fear_trf=(\n",
    "    'Stage_fear',Pipeline([\n",
    "        ('impute',SimpleImputer(strategy='most_frequent')),\n",
    "        ('Encode',OneHotEncoder(handle_unknown='ignore'))\n",
    "    ]),['Stage_fear']\n",
    ")\n",
    "Drained_after_socializing_trf=(\n",
    "    'Drained_after_socializing',Pipeline([\n",
    "        ('impute',SimpleImputer(strategy='most_frequent')),\n",
    "        ('Encode',OneHotEncoder(handle_unknown='ignore'))\n",
    "    ]),['Drained_after_socializing']\n",
    ")"
   ]
  },
  {
   "cell_type": "code",
   "execution_count": 167,
   "id": "867ae986",
   "metadata": {},
   "outputs": [],
   "source": [
    "transformer=ColumnTransformer(transformers=[time_spent_alone_trf,Stage_fear_trf,Social_event_attendance_trf,Going_outside_trf,Friends_circle_size_trf,Post_frequency_trf,Drained_after_socializing_trf],remainder='passthrough')"
   ]
  },
  {
   "cell_type": "code",
   "execution_count": 168,
   "id": "821f7364",
   "metadata": {},
   "outputs": [],
   "source": [
    "from sklearn.linear_model import LogisticRegression\n",
    "from sklearn.metrics import accuracy_score,f1_score,recall_score,classification_report"
   ]
  },
  {
   "cell_type": "code",
   "execution_count": 169,
   "id": "127c3572",
   "metadata": {},
   "outputs": [],
   "source": [
    "le=LabelEncoder()\n",
    "y_train=le.fit_transform(y_train)\n",
    "y_test=le.transform(y_test)"
   ]
  },
  {
   "cell_type": "markdown",
   "id": "72edcf06",
   "metadata": {},
   "source": [
    "Logisitic Regression"
   ]
  },
  {
   "cell_type": "code",
   "execution_count": 170,
   "id": "df96d576",
   "metadata": {},
   "outputs": [
    {
     "name": "stdout",
     "output_type": "stream",
     "text": [
      "accuracy_score:  0.968421052631579\n",
      "f1_score:  0.9379968203497615\n",
      "recall_score:  0.946524064171123\n"
     ]
    }
   ],
   "source": [
    "lr=LogisticRegression()\n",
    "pipe1=Pipeline([\n",
    "    ('transformer',transformer),\n",
    "    ('classification',lr)\n",
    "])\n",
    "pipe1.fit(x_train,y_train)\n",
    "y_pred=pipe1.predict(x_test)\n",
    "print(\"accuracy_score: \",accuracy_score(y_pred,y_test))\n",
    "print(\"f1_score: \",f1_score(y_pred,y_test))\n",
    "print(\"recall_score: \",recall_score(y_pred,y_test))"
   ]
  },
  {
   "cell_type": "code",
   "execution_count": 171,
   "id": "d33802de",
   "metadata": {},
   "outputs": [
    {
     "data": {
      "image/png": "[encoded data removed]",
      "text/plain": [
       "<Figure size 1000x600 with 2 Axes>"
      ]
     },
     "metadata": {},
     "output_type": "display_data"
    }
   ],
   "source": [
    "report = classification_report(y_test, y_pred, output_dict=True)\n",
    "df_report = pd.DataFrame(report).transpose()\n",
    "\n",
    "# Plot\n",
    "plt.figure(figsize=(10, 6))\n",
    "sns.heatmap(df_report.iloc[:-1, :-1], annot=True, cmap=\"Blues\")\n",
    "plt.title(\"Classification Report Heatmap\")\n",
    "plt.show()"
   ]
  },
  {
   "cell_type": "markdown",
   "id": "aaed0748",
   "metadata": {},
   "source": [
    "RandomForestClassification"
   ]
  },
  {
   "cell_type": "code",
   "execution_count": 172,
   "id": "847ae14b",
   "metadata": {},
   "outputs": [],
   "source": [
    "from sklearn.ensemble import RandomForestClassifier"
   ]
  },
  {
   "cell_type": "code",
   "execution_count": 173,
   "id": "58290834",
   "metadata": {},
   "outputs": [
    {
     "name": "stdout",
     "output_type": "stream",
     "text": [
      "accuracy_score:  0.9686909581646423\n",
      "f1_score:  0.9385593220338984\n",
      "recall_score:  0.9465811965811965\n"
     ]
    }
   ],
   "source": [
    "rfc=RandomForestClassifier(n_estimators=100,\n",
    "                           max_depth=5,\n",
    "                           max_samples=0.5,\n",
    "                           max_features=0.2,\n",
    "                           oob_score=True)\n",
    "pipe2=Pipeline([\n",
    "    ('transformer',transformer),\n",
    "    ('Classification',rfc)\n",
    "])\n",
    "pipe2.fit(x_train,y_train)\n",
    "y_pred=pipe2.predict(x_test)\n",
    "print(\"accuracy_score: \",accuracy_score(y_pred,y_test))\n",
    "print(\"f1_score: \",f1_score(y_pred,y_test))\n",
    "print(\"recall_score: \",recall_score(y_pred,y_test))"
   ]
  },
  {
   "cell_type": "code",
   "execution_count": 197,
   "id": "bbbe01d3",
   "metadata": {},
   "outputs": [],
   "source": [
    "from sklearn.model_selection import GridSearchCV\n",
    "\n",
    "n_estimators=[100,50,500,10]\n",
    "max_depth=[5,7,1,3,9]\n",
    "max_features=[0.2,0.5,0.25,0.75,1]\n",
    "bootstrap=[True,False]\n",
    "n_jobs=[1,-1]\n",
    "max_samples=[0.2,0.5,0.25,0.75,1]\n",
    "random_state=[12,42,9,16,5]\n",
    "param_grid={\n",
    "    'classifier__n_estimators': n_estimators,\n",
    "    'classifier__max_depth':  max_depth,\n",
    "    'classifier__max_features': max_features,\n",
    "    'classifier__n_jobs': n_jobs,\n",
    "    'classifier__bootstrap': bootstrap,\n",
    "    'classifier__max_samples': max_samples,\n",
    "    'classifier__random_state':random_state\n",
    "}\n",
    "pipe_grid=Pipeline([\n",
    "    ('transformer',transformer),\n",
    "    ('classifier',rfc)\n",
    "])\n",
    "grid=GridSearchCV(estimator=pipe_grid,param_grid=param_grid,cv=5,scoring='accuracy',n_jobs=-1,verbose=1)"
   ]
  },
  {
   "cell_type": "code",
   "execution_count": null,
   "id": "e66e56c8",
   "metadata": {},
   "outputs": [
    {
     "name": "stdout",
     "output_type": "stream",
     "text": [
      "Fitting 5 folds for each of 10000 candidates, totalling 50000 fits\n"
     ]
    }
   ],
   "source": [
    "grid.fit(x_train,y_train)\n",
    "grid.best_score_,grid.best_params_"
   ]
  },
  {
   "cell_type": "code",
   "execution_count": 196,
   "id": "0fbbe33c",
   "metadata": {},
   "outputs": [
    {
     "name": "stdout",
     "output_type": "stream",
     "text": [
      "accuracy_score:  0.9686909581646423\n",
      "f1_score:  0.9385593220338984\n",
      "recall_score:  0.9465811965811965\n",
      "12\n"
     ]
    }
   ],
   "source": [
    "rfc=RandomForestClassifier(bootstrap=True,max_depth=9,max_features=1,max_samples=0.5,n_estimators=10,n_jobs=-1,random_state=12)\n",
    "pipe_final=Pipeline([\n",
    "    ('transformer',transformer),\n",
    "    ('Classification',rfc)\n",
    "])\n",
    "pipe_final.fit(x_train,y_train)\n",
    "y_pred=pipe_final.predict(x_test)\n",
    "print(\"accuracy_score: \",accuracy_score(y_pred,y_test))\n",
    "print(\"f1_score: \",f1_score(y_pred,y_test))\n",
    "print(\"recall_score: \",recall_score(y_pred,y_test))\n",
    "print(rfc.random_state)"
   ]
  }
 ],
 "metadata": {
  "kernelspec": {
   "display_name": "Python 3",
   "language": "python",
   "name": "python3"
  },
  "language_info": {
   "codemirror_mode": {
    "name": "ipython",
    "version": 3
   },
   "file_extension": ".py",
   "mimetype": "text/x-python",
   "name": "python",
   "nbconvert_exporter": "python",
   "pygments_lexer": "ipython3",
   "version": "3.13.3"
  }
 },
 "nbformat": 4,
 "nbformat_minor": 5
}
