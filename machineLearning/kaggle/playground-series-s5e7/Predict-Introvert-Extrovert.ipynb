{
 "cells": [
  {
   "cell_type": "markdown",
   "id": "e1675887",
   "metadata": {},
   "source": [
    "# PlayGround Series - Introvert v/s Extrovert"
   ]
  },
  {
   "cell_type": "code",
   "execution_count": null,
   "id": "aa62124a",
   "metadata": {},
   "outputs": [],
   "source": [
    "import numpy as np\n",
    "import pandas as pd\n",
    "import matplotlib.pyplot as plt\n",
    "import seaborn as sns"
   ]
  },
  {
   "cell_type": "code",
   "execution_count": null,
   "id": "0baa3466",
   "metadata": {},
   "outputs": [],
   "source": [
    "df=pd.read_csv('../playground-series-s5e7/train.csv')\n",
    "full_x_test=pd.read_csv('../playground-series-s5e7/test.csv')\n",
    "full_y_test=pd.read_csv('../playground-series-s5e7/sample_submission.csv')"
   ]
  },
  {
   "cell_type": "code",
   "execution_count": null,
   "id": "a1abb71e",
   "metadata": {},
   "outputs": [],
   "source": [
    "df.head()"
   ]
  },
  {
   "cell_type": "code",
   "execution_count": null,
   "id": "e59da690",
   "metadata": {},
   "outputs": [],
   "source": [
    "df.info()"
   ]
  },
  {
   "cell_type": "code",
   "execution_count": null,
   "id": "25d3949b",
   "metadata": {},
   "outputs": [],
   "source": [
    "df.describe()"
   ]
  },
  {
   "cell_type": "code",
   "execution_count": null,
   "id": "29654172",
   "metadata": {},
   "outputs": [],
   "source": [
    "df.isnull().mean()*100"
   ]
  },
  {
   "cell_type": "markdown",
   "id": "9a7cdbe9",
   "metadata": {},
   "source": [
    "## Correleation between Numeric Features"
   ]
  },
  {
   "cell_type": "code",
   "execution_count": null,
   "id": "329a72b9",
   "metadata": {},
   "outputs": [],
   "source": [
    "corr = df.select_dtypes(include='number').corr()\n",
    "sns.heatmap(corr)"
   ]
  },
  {
   "cell_type": "markdown",
   "id": "616c8446",
   "metadata": {},
   "source": [
    "## Bar-Plot"
   ]
  },
  {
   "cell_type": "code",
   "execution_count": null,
   "id": "c138e5a4",
   "metadata": {},
   "outputs": [],
   "source": [
    "plt.figure(figsize=(12,10))\n",
    "plt.subplot(221)\n",
    "sns.barplot(y=df.Time_spent_Alone,data=df,hue=df.Personality)\n",
    "plt.subplot(222)\n",
    "sns.barplot(y=df.Social_event_attendance,data=df,hue=df.Personality)\n",
    "plt.subplot(223)\n",
    "sns.barplot(y=df.Going_outside,data=df,hue=df.Personality)\n",
    "plt.subplot(224)\n",
    "sns.barplot(y=df.Drained_after_socializing,data=df,hue=df.Personality)"
   ]
  },
  {
   "cell_type": "code",
   "execution_count": null,
   "id": "41f84918",
   "metadata": {},
   "outputs": [],
   "source": [
    "numeric_col=[col for col in df.columns if df[col].dtype!='object']\n",
    "numeric_col.remove('id')\n",
    "numeric_col"
   ]
  },
  {
   "cell_type": "markdown",
   "id": "8e4d5674",
   "metadata": {},
   "source": [
    "## Dist-Plot"
   ]
  },
  {
   "cell_type": "code",
   "execution_count": null,
   "id": "229743e0",
   "metadata": {},
   "outputs": [],
   "source": [
    "for col in numeric_col:\n",
    "    sns.distplot(x=df[col])\n",
    "    plt.title(col)\n",
    "    plt.tight_layout()\n",
    "    plt.show()"
   ]
  },
  {
   "cell_type": "markdown",
   "id": "f57a135c",
   "metadata": {},
   "source": [
    "## Box-Plot"
   ]
  },
  {
   "cell_type": "code",
   "execution_count": null,
   "id": "3dfba601",
   "metadata": {},
   "outputs": [],
   "source": [
    "for col in numeric_col:\n",
    "    sns.boxplot(x=df[col])\n",
    "    plt.title(col)\n",
    "    plt.tight_layout()\n",
    "    plt.show()"
   ]
  },
  {
   "cell_type": "markdown",
   "id": "901d010a",
   "metadata": {},
   "source": [
    "## Removing extra features"
   ]
  },
  {
   "cell_type": "code",
   "execution_count": null,
   "id": "25f70c6e",
   "metadata": {},
   "outputs": [],
   "source": [
    "df=df.drop(columns=['id'])"
   ]
  },
  {
   "cell_type": "code",
   "execution_count": null,
   "id": "a25dfaef",
   "metadata": {},
   "outputs": [],
   "source": [
    "df.Personality.value_counts()"
   ]
  },
  {
   "cell_type": "markdown",
   "id": "6df5c091",
   "metadata": {},
   "source": [
    "## Removing Outliers Rows"
   ]
  },
  {
   "cell_type": "code",
   "execution_count": null,
   "id": "8c3bf126",
   "metadata": {},
   "outputs": [],
   "source": [
    "def remove_outliers_iqr(df, col):\n",
    "    Q1 = df[col].quantile(0.25)\n",
    "    Q3 = df[col].quantile(0.75)\n",
    "    IQR = Q3 - Q1\n",
    "    lower = Q1 - 1.5 * IQR\n",
    "    upper = Q3 + 1.5 * IQR\n",
    "    return df[(df[col] >= lower) & (df[col] <= upper)]    \n",
    "df = remove_outliers_iqr(df,'Time_spent_Alone')"
   ]
  },
  {
   "cell_type": "markdown",
   "id": "812822e8",
   "metadata": {},
   "source": [
    "## Splitting Data"
   ]
  },
  {
   "cell_type": "code",
   "execution_count": null,
   "id": "c17278d0",
   "metadata": {},
   "outputs": [],
   "source": [
    "from sklearn.model_selection import train_test_split\n",
    "\n",
    "x=df.drop(columns=['Personality'])\n",
    "y=df.Personality\n",
    "\n",
    "x_train,x_test,y_train,y_test=train_test_split(x,y,test_size=0.2,random_state=12)"
   ]
  },
  {
   "cell_type": "code",
   "execution_count": null,
   "id": "aaa5f50d",
   "metadata": {},
   "outputs": [],
   "source": [
    "from sklearn.preprocessing import OrdinalEncoder,LabelEncoder\n",
    "from sklearn.impute import KNNImputer,SimpleImputer\n",
    "from sklearn.pipeline import Pipeline\n",
    "from sklearn.compose import ColumnTransformer"
   ]
  },
  {
   "cell_type": "markdown",
   "id": "fe39304c",
   "metadata": {},
   "source": [
    "## Encoding Target Column"
   ]
  },
  {
   "cell_type": "code",
   "execution_count": null,
   "id": "3f61c41e",
   "metadata": {},
   "outputs": [],
   "source": [
    "le=LabelEncoder()\n",
    "y_train=le.fit_transform(y_train)\n",
    "y_test=le.transform(y_test)"
   ]
  },
  {
   "cell_type": "code",
   "execution_count": null,
   "id": "4e01a8dc",
   "metadata": {},
   "outputs": [],
   "source": [
    "cat_cols=['Drained_after_socializing','Stage_fear']\n",
    "numeric_col=[col for col in x_train.columns if df[col].dtype!='object']"
   ]
  },
  {
   "cell_type": "markdown",
   "id": "fb890ed6",
   "metadata": {},
   "source": [
    "## Transforming the features"
   ]
  },
  {
   "cell_type": "code",
   "execution_count": null,
   "id": "c6a4a3b7",
   "metadata": {},
   "outputs": [],
   "source": [
    "numeric_trf=(\n",
    "    'num_trf',Pipeline([\n",
    "        ('impute',SimpleImputer())\n",
    "    ]),numeric_col\n",
    ")\n",
    "cat_trf=(\n",
    "    'cat',Pipeline([\n",
    "        ('impute',SimpleImputer(strategy='most_frequent')),\n",
    "        ('encode',OrdinalEncoder())\n",
    "    ]),cat_cols\n",
    ")"
   ]
  },
  {
   "cell_type": "code",
   "execution_count": null,
   "id": "b444b97a",
   "metadata": {},
   "outputs": [],
   "source": [
    "transformer=ColumnTransformer(transformers=[numeric_trf,cat_trf],remainder='passthrough')"
   ]
  },
  {
   "cell_type": "markdown",
   "id": "1f2072a6",
   "metadata": {},
   "source": [
    "## Model Training — XGBoost Classifier"
   ]
  },
  {
   "cell_type": "code",
   "execution_count": null,
   "id": "1fa6eaef",
   "metadata": {},
   "outputs": [],
   "source": [
    "from xgboost import XGBClassifier\n",
    "\n",
    "xgb=XGBClassifier(colsample_bytree= 0.6,\n",
    " gamma= 5,\n",
    " learning_rate= 0.1,\n",
    " max_depth= 3,\n",
    " n_estimators= 200,\n",
    " subsample= 0.6,n_jobs=-1,random_state=12)"
   ]
  },
  {
   "cell_type": "code",
   "execution_count": null,
   "id": "7dbef35f",
   "metadata": {},
   "outputs": [],
   "source": [
    "pipe=Pipeline([\n",
    "    ('transformer',transformer),\n",
    "    ('clf',xgb)\n",
    "])"
   ]
  },
  {
   "cell_type": "code",
   "execution_count": null,
   "id": "706dd467",
   "metadata": {},
   "outputs": [],
   "source": [
    "pipe.fit(x_train,y_train)\n",
    "y_pred=pipe.predict(x_test)"
   ]
  },
  {
   "cell_type": "code",
   "execution_count": null,
   "id": "a40352fa",
   "metadata": {},
   "outputs": [],
   "source": [
    "from sklearn.metrics import accuracy_score,ConfusionMatrixDisplay"
   ]
  },
  {
   "cell_type": "code",
   "execution_count": null,
   "id": "98c17219",
   "metadata": {},
   "outputs": [],
   "source": [
    "accuracy_score(y_test,y_pred)"
   ]
  },
  {
   "cell_type": "code",
   "execution_count": null,
   "id": "5224a925",
   "metadata": {},
   "outputs": [],
   "source": [
    "ConfusionMatrixDisplay.from_predictions(y_test,y_pred)"
   ]
  },
  {
   "cell_type": "markdown",
   "id": "1862a8e2",
   "metadata": {},
   "source": [
    "## Using GirdSearchCV"
   ]
  },
  {
   "cell_type": "code",
   "execution_count": null,
   "id": "1c385066",
   "metadata": {},
   "outputs": [],
   "source": [
    "from sklearn.model_selection import GridSearchCV"
   ]
  },
  {
   "cell_type": "code",
   "execution_count": null,
   "id": "3cddf81f",
   "metadata": {},
   "outputs": [],
   "source": [
    "param_grid = {\n",
    "    'clf__n_estimators': [100, 200],\n",
    "    'clf__max_depth': [3, 5, 7],\n",
    "    'clf__learning_rate': [0.01, 0.05, 0.1,0.2],\n",
    "    'clf__subsample': [0.6, 0.8, 1.0],\n",
    "    'clf__colsample_bytree': [0.6, 0.8, 1.0],\n",
    "    'clf__gamma': [0, 1, 5]\n",
    "}\n",
    "xgb = XGBClassifier(use_label_encoder=False, eval_metric='logloss')\n",
    "pipe_xgb_grid=Pipeline([\n",
    "    ('transformer',transformer),\n",
    "    ('clf',xgb)\n",
    "])\n",
    "grid_xgb=GridSearchCV(estimator=pipe_xgb_grid, param_grid=param_grid,cv=5, scoring='accuracy', verbose=1, n_jobs=-1)\n",
    "grid_xgb.fit(x_train,y_train)\n",
    "y_pred=grid_xgb.predict(x_test)\n",
    "accuracy_score(y_test,y_pred)\n",
    "grid_xgb.best_params_"
   ]
  },
  {
   "cell_type": "markdown",
   "id": "1ca77c3c",
   "metadata": {},
   "source": [
    "## Testing the Orginal Test dataset"
   ]
  },
  {
   "cell_type": "code",
   "execution_count": null,
   "id": "5a6bf2d3",
   "metadata": {},
   "outputs": [],
   "source": [
    "full_x_test.drop(columns=['id'],inplace=True)"
   ]
  },
  {
   "cell_type": "code",
   "execution_count": null,
   "id": "5edee2dc",
   "metadata": {},
   "outputs": [],
   "source": [
    "y_encode=le.fit_transform(y)"
   ]
  },
  {
   "cell_type": "code",
   "execution_count": null,
   "id": "c9dbe402",
   "metadata": {},
   "outputs": [],
   "source": [
    "pipe.fit(x, y_encode)"
   ]
  },
  {
   "cell_type": "code",
   "execution_count": null,
   "id": "9b0db4c7",
   "metadata": {},
   "outputs": [],
   "source": [
    "test_preds = pipe.predict(full_x_test)\n",
    "test_preds_original = le.inverse_transform(test_preds)"
   ]
  },
  {
   "cell_type": "markdown",
   "id": "69545bbd",
   "metadata": {},
   "source": [
    "## Submission"
   ]
  },
  {
   "cell_type": "code",
   "execution_count": null,
   "id": "e2e2bb5e",
   "metadata": {},
   "outputs": [],
   "source": [
    "submission = full_y_test.copy()\n",
    "submission['Personality'] = test_preds_original\n",
    "submission.to_csv('final_submission.csv', index=False)"
   ]
  },
  {
   "cell_type": "code",
   "execution_count": null,
   "id": "d465b9d2",
   "metadata": {},
   "outputs": [],
   "source": []
  }
 ],
 "metadata": {
  "kernelspec": {
   "display_name": "Python 3",
   "language": "python",
   "name": "python3"
  },
  "language_info": {
   "codemirror_mode": {
    "name": "ipython",
    "version": 3
   },
   "file_extension": ".py",
   "mimetype": "text/x-python",
   "name": "python",
   "nbconvert_exporter": "python",
   "pygments_lexer": "ipython3",
   "version": "3.13.3"
  }
 },
 "nbformat": 4,
 "nbformat_minor": 5
}
