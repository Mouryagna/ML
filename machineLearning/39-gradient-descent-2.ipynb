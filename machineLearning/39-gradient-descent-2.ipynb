{
 "cells": [
  {
   "cell_type": "markdown",
   "id": "6b1e95a3",
   "metadata": {},
   "source": [
    "# Intro to Gradient Descent"
   ]
  },
  {
   "cell_type": "code",
   "execution_count": 43,
   "id": "54bff808",
   "metadata": {},
   "outputs": [],
   "source": [
    "import numpy as np\n",
    "import pandas as pd\n",
    "import matplotlib.pyplot as plt\n",
    "from sklearn.datasets import make_regression"
   ]
  },
  {
   "cell_type": "code",
   "execution_count": 50,
   "id": "ee967163",
   "metadata": {},
   "outputs": [],
   "source": [
    "x,y=make_regression(n_samples=100,n_features=1,n_informative=1,n_targets=1,noise=50,random_state=2)"
   ]
  },
  {
   "cell_type": "code",
   "execution_count": 51,
   "id": "64faeca2",
   "metadata": {},
   "outputs": [
    {
     "data": {
      "text/plain": [
       "<matplotlib.collections.PathCollection at 0x1aa78662fd0>"
      ]
     },
     "execution_count": 51,
     "metadata": {},
     "output_type": "execute_result"
    },
    {
     "data": {
      "image/png": "[encoded data removed]",
      "text/plain": [
       "<Figure size 640x480 with 1 Axes>"
      ]
     },
     "metadata": {},
     "output_type": "display_data"
    }
   ],
   "source": [
    "plt.scatter(x,y)"
   ]
  },
  {
   "cell_type": "code",
   "execution_count": 52,
   "id": "4b5e5d4a",
   "metadata": {},
   "outputs": [],
   "source": [
    "from sklearn.model_selection import train_test_split\n",
    "from sklearn.metrics import r2_score\n",
    "from sklearn.linear_model import LinearRegression\n",
    "\n",
    "x_train,x_test,y_train,y_test=train_test_split(x,y,test_size=0.2,random_state=2)"
   ]
  },
  {
   "cell_type": "code",
   "execution_count": 53,
   "id": "48e3dfe8",
   "metadata": {},
   "outputs": [
    {
     "data": {
      "text/plain": [
       "(array([51.88201981]),\n",
       " np.float64(-0.5023661899901288),\n",
       " array([ 26.69919158, -10.33241434,  31.21522825,  28.87714748,\n",
       "         21.988299  , -44.17391969,  84.59819639,  27.46506828,\n",
       "         25.53499936, -20.29621186,  -8.46600697,  72.47987609,\n",
       "        -34.39430953,  43.2059673 , -46.0603773 , -17.91798452,\n",
       "         27.6359807 , -75.18337029, -74.23798654,  10.09235622]))"
      ]
     },
     "execution_count": 53,
     "metadata": {},
     "output_type": "execute_result"
    }
   ],
   "source": [
    "lr=LinearRegression()\n",
    "\n",
    "lr.fit(x_train,y_train)\n",
    "y_pred=lr.predict(x_test)\n",
    "lr.coef_,lr.intercept_,y_pred"
   ]
  },
  {
   "cell_type": "code",
   "execution_count": 54,
   "id": "595b6ff3",
   "metadata": {},
   "outputs": [
    {
     "data": {
      "text/plain": [
       "0.08916688079116342"
      ]
     },
     "execution_count": 54,
     "metadata": {},
     "output_type": "execute_result"
    }
   ],
   "source": [
    "r2_score(y_pred,y_test)"
   ]
  },
  {
   "cell_type": "code",
   "execution_count": 62,
   "id": "95dba3e8",
   "metadata": {},
   "outputs": [],
   "source": [
    "class GD:\n",
    "    def __init__(self,learning_rate,epcohs):\n",
    "        self.m=100\n",
    "        self.b=120\n",
    "        self.n=learning_rate\n",
    "        self.epochs=epcohs\n",
    "    def fit(self,x,y):\n",
    "        for i in range(self.epochs):\n",
    "            loss_slope_b=-2*np.sum(y-self.m*x.ravel()-self.b)\n",
    "            self.b=self.b-(self.n*loss_slope_b)\n",
    "\n",
    "\n",
    "            loss_slope_m=-2*np.sum((y-self.m*x.ravel()-self.b)*x.ravel())\n",
    "            self.m=self.m-(self.n*loss_slope_m)\n",
    "        print(self.m,self.b)\n",
    "    def predict(self,x):\n",
    "        return self.m*x+self.b"
   ]
  },
  {
   "cell_type": "code",
   "execution_count": 82,
   "id": "989a5d6c",
   "metadata": {},
   "outputs": [],
   "source": [
    "gd=GD(0.001,75)"
   ]
  },
  {
   "cell_type": "code",
   "execution_count": 83,
   "id": "adbdaf00",
   "metadata": {},
   "outputs": [
    {
     "name": "stdout",
     "output_type": "stream",
     "text": [
      "51.88235153173731 -0.501686884822522\n"
     ]
    }
   ],
   "source": [
    "gd.fit(x_train,y_train)"
   ]
  },
  {
   "cell_type": "code",
   "execution_count": 65,
   "id": "d61868c3",
   "metadata": {},
   "outputs": [],
   "source": [
    "y_pred=gd.predict(x_test)"
   ]
  },
  {
   "cell_type": "code",
   "execution_count": 66,
   "id": "06c1fce6",
   "metadata": {},
   "outputs": [
    {
     "data": {
      "text/plain": [
       "0.08916726909673134"
      ]
     },
     "execution_count": 66,
     "metadata": {},
     "output_type": "execute_result"
    }
   ],
   "source": [
    "r2_score(y_pred,y_test)"
   ]
  },
  {
   "cell_type": "code",
   "execution_count": null,
   "id": "6e34f88a",
   "metadata": {},
   "outputs": [],
   "source": []
  }
 ],
 "metadata": {
  "kernelspec": {
   "display_name": "Python 3",
   "language": "python",
   "name": "python3"
  },
  "language_info": {
   "codemirror_mode": {
    "name": "ipython",
    "version": 3
   },
   "file_extension": ".py",
   "mimetype": "text/x-python",
   "name": "python",
   "nbconvert_exporter": "python",
   "pygments_lexer": "ipython3",
   "version": "3.13.3"
  }
 },
 "nbformat": 4,
 "nbformat_minor": 5
}
