{
 "cells": [
  {
   "cell_type": "markdown",
   "id": "bb98f759",
   "metadata": {},
   "source": [
    "# end to end LR"
   ]
  },
  {
   "cell_type": "code",
   "execution_count": 50,
   "id": "fbb3097c",
   "metadata": {},
   "outputs": [],
   "source": [
    "class LR:\n",
    "    def __init__(self):\n",
    "        self.m=None\n",
    "        self.b=None\n",
    "\n",
    "    def fit(self,x_train,y_train):\n",
    "        num=0\n",
    "        den=0\n",
    "        for i in range(x_train.shape[0]):\n",
    "            \n",
    "            num=num+((x_train[i]-x_train.mean())*(y_train[i]-y_train.mean()))\n",
    "            den=den+((x_train[i]-x_train.mean())*(x_train[i]-x_train.mean()))\n",
    "        self.m=num/den\n",
    "        self.b=y_train.mean()-(self.m*x_train.mean())\n",
    "        print(self.m)\n",
    "        print(self.b)\n",
    "    def predict(self,x_test):\n",
    "        return (self.m*x_test) + self.b"
   ]
  },
  {
   "cell_type": "code",
   "execution_count": 51,
   "id": "a6aa2171",
   "metadata": {},
   "outputs": [],
   "source": [
    "import numpy as np\n",
    "import pandas as pd"
   ]
  },
  {
   "cell_type": "code",
   "execution_count": 52,
   "id": "86388f2f",
   "metadata": {},
   "outputs": [],
   "source": [
    "df=pd.read_csv('csv/placement.csv')"
   ]
  },
  {
   "cell_type": "code",
   "execution_count": 53,
   "id": "1c45fbff",
   "metadata": {},
   "outputs": [],
   "source": [
    "x=df.iloc[:,0:1].values\n",
    "y=df.iloc[:,-1].values"
   ]
  },
  {
   "cell_type": "code",
   "execution_count": 54,
   "id": "b9e08bc7",
   "metadata": {},
   "outputs": [],
   "source": [
    "from sklearn.model_selection import train_test_split\n",
    "x_train,x_test,y_train,y_test=train_test_split(x,y,test_size=0.2,random_state=2)"
   ]
  },
  {
   "cell_type": "code",
   "execution_count": 55,
   "id": "b359dac0",
   "metadata": {},
   "outputs": [],
   "source": [
    "lr=LR()"
   ]
  },
  {
   "cell_type": "code",
   "execution_count": 56,
   "id": "c5397dec",
   "metadata": {},
   "outputs": [
    {
     "name": "stdout",
     "output_type": "stream",
     "text": [
      "[0.55795197]\n",
      "[-0.89611192]\n"
     ]
    }
   ],
   "source": [
    "lr.fit(x_train,y_train)"
   ]
  },
  {
   "cell_type": "code",
   "execution_count": 58,
   "id": "bf0d8096",
   "metadata": {},
   "outputs": [
    {
     "data": {
      "text/plain": [
       "array([3.89111601])"
      ]
     },
     "execution_count": 58,
     "metadata": {},
     "output_type": "execute_result"
    }
   ],
   "source": [
    "lr.predict(x_test[0])"
   ]
  },
  {
   "cell_type": "code",
   "execution_count": null,
   "id": "e096703f",
   "metadata": {},
   "outputs": [],
   "source": []
  }
 ],
 "metadata": {
  "kernelspec": {
   "display_name": "Python 3",
   "language": "python",
   "name": "python3"
  },
  "language_info": {
   "codemirror_mode": {
    "name": "ipython",
    "version": 3
   },
   "file_extension": ".py",
   "mimetype": "text/x-python",
   "name": "python",
   "nbconvert_exporter": "python",
   "pygments_lexer": "ipython3",
   "version": "3.13.3"
  }
 },
 "nbformat": 4,
 "nbformat_minor": 5
}
